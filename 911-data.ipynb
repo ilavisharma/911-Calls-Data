{
  "nbformat": 4,
  "nbformat_minor": 0,
  "metadata": {
    "colab": {
      "name": "11_PortfolioProject_911.ipynb",
      "version": "0.3.2",
      "provenance": [],
      "collapsed_sections": []
    },
    "kernelspec": {
      "name": "python3",
      "display_name": "Python 3"
    }
  },
  "cells": [
    {
      "cell_type": "code",
      "metadata": {
        "id": "06qMR8zvLGe8",
        "colab_type": "code",
        "colab": {},
        "cellView": "both"
      },
      "source": [
        "# Mounting google drive to import the data\n",
        "\n",
        "# Load the Drive helper and mount\n",
        "from google.colab import drive\n",
        "\n",
        "# This will prompt for authorization.\n",
        "drive.mount('/content/drive')\n",
        "\n",
        "# change to the datasets folder present in the mounted drive\n",
        "%cd /content/drive/My Drive/DataSets"
      ],
      "execution_count": 0,
      "outputs": []
    },
    {
      "cell_type": "code",
      "metadata": {
        "id": "pVbY2tDkNs59",
        "colab_type": "code",
        "colab": {
          "base_uri": "https://localhost:8080/",
          "height": 51
        },
        "outputId": "9658728a-7cf5-4553-b1f7-344c3783eda5"
      },
      "source": [
        "# check for data file\n",
        "!ls"
      ],
      "execution_count": 11,
      "outputs": [
        {
          "output_type": "stream",
          "text": [
            "911.csv\t\t groupStudy.csv   housingData-Real.csv\tmeshgrid-contour.py\n",
            "CleanupData.csv  HousingData.csv  loanData.csv\t\tSocial_Network_Ads.csv\n"
          ],
          "name": "stdout"
        }
      ]
    },
    {
      "cell_type": "code",
      "metadata": {
        "id": "i1k_6TPCN1Ot",
        "colab_type": "code",
        "colab": {}
      },
      "source": [
        "# import all major libraries\n",
        "import numpy as np\n",
        "import pandas as pd\n",
        "import matplotlib.pyplot as plt\n",
        "import seaborn as sns"
      ],
      "execution_count": 0,
      "outputs": []
    },
    {
      "cell_type": "code",
      "metadata": {
        "id": "sAVnKX3SOESb",
        "colab_type": "code",
        "colab": {}
      },
      "source": [
        "# usage of inline plotting\n",
        "%matplotlib inline"
      ],
      "execution_count": 0,
      "outputs": []
    },
    {
      "cell_type": "code",
      "metadata": {
        "id": "8JhDtUHfONWD",
        "colab_type": "code",
        "colab": {}
      },
      "source": [
        "# load data from csv file\n",
        "dataFrame= pd.read_csv('911.csv')"
      ],
      "execution_count": 0,
      "outputs": []
    },
    {
      "cell_type": "code",
      "metadata": {
        "id": "IyFydyC3OnR2",
        "colab_type": "code",
        "colab": {
          "base_uri": "https://localhost:8080/",
          "height": 255
        },
        "outputId": "c56cce35-115e-4875-b5ba-9c337eb6c610"
      },
      "source": [
        "dataFrame.info()"
      ],
      "execution_count": 16,
      "outputs": [
        {
          "output_type": "stream",
          "text": [
            "<class 'pandas.core.frame.DataFrame'>\n",
            "RangeIndex: 289240 entries, 0 to 289239\n",
            "Data columns (total 9 columns):\n",
            "lat          289240 non-null float64\n",
            "lng          289240 non-null float64\n",
            "desc         289240 non-null object\n",
            "zip          253942 non-null float64\n",
            "title        289240 non-null object\n",
            "timeStamp    289240 non-null object\n",
            "twp          289137 non-null object\n",
            "addr         289240 non-null object\n",
            "e            289240 non-null int64\n",
            "dtypes: float64(3), int64(1), object(5)\n",
            "memory usage: 19.9+ MB\n"
          ],
          "name": "stdout"
        }
      ]
    },
    {
      "cell_type": "code",
      "metadata": {
        "id": "LQb2OJtJOrdN",
        "colab_type": "code",
        "colab": {
          "base_uri": "https://localhost:8080/",
          "height": 289
        },
        "outputId": "4e0324a5-18bf-42a8-f643-fe9d2d373241"
      },
      "source": [
        "# check head for our dataframe\n",
        "dataFrame.head()"
      ],
      "execution_count": 17,
      "outputs": [
        {
          "output_type": "execute_result",
          "data": {
            "text/html": [
              "<div>\n",
              "<style scoped>\n",
              "    .dataframe tbody tr th:only-of-type {\n",
              "        vertical-align: middle;\n",
              "    }\n",
              "\n",
              "    .dataframe tbody tr th {\n",
              "        vertical-align: top;\n",
              "    }\n",
              "\n",
              "    .dataframe thead th {\n",
              "        text-align: right;\n",
              "    }\n",
              "</style>\n",
              "<table border=\"1\" class=\"dataframe\">\n",
              "  <thead>\n",
              "    <tr style=\"text-align: right;\">\n",
              "      <th></th>\n",
              "      <th>lat</th>\n",
              "      <th>lng</th>\n",
              "      <th>desc</th>\n",
              "      <th>zip</th>\n",
              "      <th>title</th>\n",
              "      <th>timeStamp</th>\n",
              "      <th>twp</th>\n",
              "      <th>addr</th>\n",
              "      <th>e</th>\n",
              "    </tr>\n",
              "  </thead>\n",
              "  <tbody>\n",
              "    <tr>\n",
              "      <th>0</th>\n",
              "      <td>40.297876</td>\n",
              "      <td>-75.581294</td>\n",
              "      <td>REINDEER CT &amp; DEAD END;  NEW HANOVER; Station ...</td>\n",
              "      <td>19525.0</td>\n",
              "      <td>EMS: BACK PAINS/INJURY</td>\n",
              "      <td>2015-12-10 17:10:52</td>\n",
              "      <td>NEW HANOVER</td>\n",
              "      <td>REINDEER CT &amp; DEAD END</td>\n",
              "      <td>1</td>\n",
              "    </tr>\n",
              "    <tr>\n",
              "      <th>1</th>\n",
              "      <td>40.258061</td>\n",
              "      <td>-75.264680</td>\n",
              "      <td>BRIAR PATH &amp; WHITEMARSH LN;  HATFIELD TOWNSHIP...</td>\n",
              "      <td>19446.0</td>\n",
              "      <td>EMS: DIABETIC EMERGENCY</td>\n",
              "      <td>2015-12-10 17:29:21</td>\n",
              "      <td>HATFIELD TOWNSHIP</td>\n",
              "      <td>BRIAR PATH &amp; WHITEMARSH LN</td>\n",
              "      <td>1</td>\n",
              "    </tr>\n",
              "    <tr>\n",
              "      <th>2</th>\n",
              "      <td>40.121182</td>\n",
              "      <td>-75.351975</td>\n",
              "      <td>HAWS AVE; NORRISTOWN; 2015-12-10 @ 14:39:21-St...</td>\n",
              "      <td>19401.0</td>\n",
              "      <td>Fire: GAS-ODOR/LEAK</td>\n",
              "      <td>2015-12-10 14:39:21</td>\n",
              "      <td>NORRISTOWN</td>\n",
              "      <td>HAWS AVE</td>\n",
              "      <td>1</td>\n",
              "    </tr>\n",
              "    <tr>\n",
              "      <th>3</th>\n",
              "      <td>40.116153</td>\n",
              "      <td>-75.343513</td>\n",
              "      <td>AIRY ST &amp; SWEDE ST;  NORRISTOWN; Station 308A;...</td>\n",
              "      <td>19401.0</td>\n",
              "      <td>EMS: CARDIAC EMERGENCY</td>\n",
              "      <td>2015-12-10 16:47:36</td>\n",
              "      <td>NORRISTOWN</td>\n",
              "      <td>AIRY ST &amp; SWEDE ST</td>\n",
              "      <td>1</td>\n",
              "    </tr>\n",
              "    <tr>\n",
              "      <th>4</th>\n",
              "      <td>40.251492</td>\n",
              "      <td>-75.603350</td>\n",
              "      <td>CHERRYWOOD CT &amp; DEAD END;  LOWER POTTSGROVE; S...</td>\n",
              "      <td>NaN</td>\n",
              "      <td>EMS: DIZZINESS</td>\n",
              "      <td>2015-12-10 16:56:52</td>\n",
              "      <td>LOWER POTTSGROVE</td>\n",
              "      <td>CHERRYWOOD CT &amp; DEAD END</td>\n",
              "      <td>1</td>\n",
              "    </tr>\n",
              "  </tbody>\n",
              "</table>\n",
              "</div>"
            ],
            "text/plain": [
              "         lat        lng  ...                        addr  e\n",
              "0  40.297876 -75.581294  ...      REINDEER CT & DEAD END  1\n",
              "1  40.258061 -75.264680  ...  BRIAR PATH & WHITEMARSH LN  1\n",
              "2  40.121182 -75.351975  ...                    HAWS AVE  1\n",
              "3  40.116153 -75.343513  ...          AIRY ST & SWEDE ST  1\n",
              "4  40.251492 -75.603350  ...    CHERRYWOOD CT & DEAD END  1\n",
              "\n",
              "[5 rows x 9 columns]"
            ]
          },
          "metadata": {
            "tags": []
          },
          "execution_count": 17
        }
      ]
    },
    {
      "cell_type": "code",
      "metadata": {
        "id": "R7Hin6LIPBxF",
        "colab_type": "code",
        "colab": {
          "base_uri": "https://localhost:8080/",
          "height": 119
        },
        "outputId": "11eae7b6-7d0d-415b-bc5b-8e841e098b4e"
      },
      "source": [
        "# top 5 zip codes\n",
        "dataFrame['zip'].value_counts().head()"
      ],
      "execution_count": 19,
      "outputs": [
        {
          "output_type": "execute_result",
          "data": {
            "text/plain": [
              "19401.0    19821\n",
              "19464.0    19276\n",
              "19403.0    14524\n",
              "19446.0    13939\n",
              "19406.0     9601\n",
              "Name: zip, dtype: int64"
            ]
          },
          "metadata": {
            "tags": []
          },
          "execution_count": 19
        }
      ]
    },
    {
      "cell_type": "code",
      "metadata": {
        "id": "1naVA-PdTfaW",
        "colab_type": "code",
        "colab": {
          "base_uri": "https://localhost:8080/",
          "height": 136
        },
        "outputId": "541bf82d-a796-4fc9-e2cc-7062ffb41eb0"
      },
      "source": [
        "# top 6 twp reaching to 911\n",
        "dataFrame['twp'].value_counts().head(6)"
      ],
      "execution_count": 22,
      "outputs": [
        {
          "output_type": "execute_result",
          "data": {
            "text/plain": [
              "LOWER MERION    24826\n",
              "ABINGTON        17820\n",
              "NORRISTOWN      16546\n",
              "UPPER MERION    15288\n",
              "CHELTENHAM      13359\n",
              "POTTSTOWN       12039\n",
              "Name: twp, dtype: int64"
            ]
          },
          "metadata": {
            "tags": []
          },
          "execution_count": 22
        }
      ]
    },
    {
      "cell_type": "code",
      "metadata": {
        "id": "DYWjzdFHUEzN",
        "colab_type": "code",
        "colab": {
          "base_uri": "https://localhost:8080/",
          "height": 34
        },
        "outputId": "629b66b4-a8d2-481b-91ef-cf5e09353219"
      },
      "source": [
        "# unique reasong for calling\n",
        "dataFrame['title'].nunique()"
      ],
      "execution_count": 25,
      "outputs": [
        {
          "output_type": "execute_result",
          "data": {
            "text/plain": [
              "131"
            ]
          },
          "metadata": {
            "tags": []
          },
          "execution_count": 25
        }
      ]
    },
    {
      "cell_type": "code",
      "metadata": {
        "id": "UQ6R1-x7UxgS",
        "colab_type": "code",
        "colab": {}
      },
      "source": [
        "# breaking up the title into specific and broad reason\n",
        "dataFrame['SpecificReason']= dataFrame['title'].apply(lambda title: title.split(':')[1])\n",
        "dataFrame['BroadReason']= dataFrame['title'].apply(lambda title: title.split(':')[0])"
      ],
      "execution_count": 0,
      "outputs": []
    },
    {
      "cell_type": "code",
      "metadata": {
        "id": "skb9sc9hWbtu",
        "colab_type": "code",
        "colab": {
          "base_uri": "https://localhost:8080/",
          "height": 289
        },
        "outputId": "4ee3603f-d282-4f19-be79-1b303a3029ee"
      },
      "source": [
        "dataFrame.head()"
      ],
      "execution_count": 36,
      "outputs": [
        {
          "output_type": "execute_result",
          "data": {
            "text/html": [
              "<div>\n",
              "<style scoped>\n",
              "    .dataframe tbody tr th:only-of-type {\n",
              "        vertical-align: middle;\n",
              "    }\n",
              "\n",
              "    .dataframe tbody tr th {\n",
              "        vertical-align: top;\n",
              "    }\n",
              "\n",
              "    .dataframe thead th {\n",
              "        text-align: right;\n",
              "    }\n",
              "</style>\n",
              "<table border=\"1\" class=\"dataframe\">\n",
              "  <thead>\n",
              "    <tr style=\"text-align: right;\">\n",
              "      <th></th>\n",
              "      <th>lat</th>\n",
              "      <th>lng</th>\n",
              "      <th>desc</th>\n",
              "      <th>zip</th>\n",
              "      <th>title</th>\n",
              "      <th>timeStamp</th>\n",
              "      <th>twp</th>\n",
              "      <th>addr</th>\n",
              "      <th>e</th>\n",
              "      <th>SpecificReason</th>\n",
              "      <th>BroadReason</th>\n",
              "    </tr>\n",
              "  </thead>\n",
              "  <tbody>\n",
              "    <tr>\n",
              "      <th>0</th>\n",
              "      <td>40.297876</td>\n",
              "      <td>-75.581294</td>\n",
              "      <td>REINDEER CT &amp; DEAD END;  NEW HANOVER; Station ...</td>\n",
              "      <td>19525.0</td>\n",
              "      <td>EMS: BACK PAINS/INJURY</td>\n",
              "      <td>2015-12-10 17:10:52</td>\n",
              "      <td>NEW HANOVER</td>\n",
              "      <td>REINDEER CT &amp; DEAD END</td>\n",
              "      <td>1</td>\n",
              "      <td>BACK PAINS/INJURY</td>\n",
              "      <td>EMS</td>\n",
              "    </tr>\n",
              "    <tr>\n",
              "      <th>1</th>\n",
              "      <td>40.258061</td>\n",
              "      <td>-75.264680</td>\n",
              "      <td>BRIAR PATH &amp; WHITEMARSH LN;  HATFIELD TOWNSHIP...</td>\n",
              "      <td>19446.0</td>\n",
              "      <td>EMS: DIABETIC EMERGENCY</td>\n",
              "      <td>2015-12-10 17:29:21</td>\n",
              "      <td>HATFIELD TOWNSHIP</td>\n",
              "      <td>BRIAR PATH &amp; WHITEMARSH LN</td>\n",
              "      <td>1</td>\n",
              "      <td>DIABETIC EMERGENCY</td>\n",
              "      <td>EMS</td>\n",
              "    </tr>\n",
              "    <tr>\n",
              "      <th>2</th>\n",
              "      <td>40.121182</td>\n",
              "      <td>-75.351975</td>\n",
              "      <td>HAWS AVE; NORRISTOWN; 2015-12-10 @ 14:39:21-St...</td>\n",
              "      <td>19401.0</td>\n",
              "      <td>Fire: GAS-ODOR/LEAK</td>\n",
              "      <td>2015-12-10 14:39:21</td>\n",
              "      <td>NORRISTOWN</td>\n",
              "      <td>HAWS AVE</td>\n",
              "      <td>1</td>\n",
              "      <td>GAS-ODOR/LEAK</td>\n",
              "      <td>Fire</td>\n",
              "    </tr>\n",
              "    <tr>\n",
              "      <th>3</th>\n",
              "      <td>40.116153</td>\n",
              "      <td>-75.343513</td>\n",
              "      <td>AIRY ST &amp; SWEDE ST;  NORRISTOWN; Station 308A;...</td>\n",
              "      <td>19401.0</td>\n",
              "      <td>EMS: CARDIAC EMERGENCY</td>\n",
              "      <td>2015-12-10 16:47:36</td>\n",
              "      <td>NORRISTOWN</td>\n",
              "      <td>AIRY ST &amp; SWEDE ST</td>\n",
              "      <td>1</td>\n",
              "      <td>CARDIAC EMERGENCY</td>\n",
              "      <td>EMS</td>\n",
              "    </tr>\n",
              "    <tr>\n",
              "      <th>4</th>\n",
              "      <td>40.251492</td>\n",
              "      <td>-75.603350</td>\n",
              "      <td>CHERRYWOOD CT &amp; DEAD END;  LOWER POTTSGROVE; S...</td>\n",
              "      <td>NaN</td>\n",
              "      <td>EMS: DIZZINESS</td>\n",
              "      <td>2015-12-10 16:56:52</td>\n",
              "      <td>LOWER POTTSGROVE</td>\n",
              "      <td>CHERRYWOOD CT &amp; DEAD END</td>\n",
              "      <td>1</td>\n",
              "      <td>DIZZINESS</td>\n",
              "      <td>EMS</td>\n",
              "    </tr>\n",
              "  </tbody>\n",
              "</table>\n",
              "</div>"
            ],
            "text/plain": [
              "         lat        lng  ...       SpecificReason  BroadReason\n",
              "0  40.297876 -75.581294  ...    BACK PAINS/INJURY          EMS\n",
              "1  40.258061 -75.264680  ...   DIABETIC EMERGENCY          EMS\n",
              "2  40.121182 -75.351975  ...        GAS-ODOR/LEAK         Fire\n",
              "3  40.116153 -75.343513  ...    CARDIAC EMERGENCY          EMS\n",
              "4  40.251492 -75.603350  ...            DIZZINESS          EMS\n",
              "\n",
              "[5 rows x 11 columns]"
            ]
          },
          "metadata": {
            "tags": []
          },
          "execution_count": 36
        }
      ]
    },
    {
      "cell_type": "code",
      "metadata": {
        "id": "Og2jT7bOWgHq",
        "colab_type": "code",
        "colab": {
          "base_uri": "https://localhost:8080/",
          "height": 204
        },
        "outputId": "49bb1f11-4450-4321-9c1d-007fe72b371a"
      },
      "source": [
        "dataFrame['SpecificReason'].value_counts().head(10)"
      ],
      "execution_count": 33,
      "outputs": [
        {
          "output_type": "execute_result",
          "data": {
            "text/plain": [
              " VEHICLE ACCIDENT -       68123\n",
              " DISABLED VEHICLE -       20667\n",
              " VEHICLE ACCIDENT         16747\n",
              " FIRE ALARM               16359\n",
              " RESPIRATORY EMERGENCY    14637\n",
              " FALL VICTIM              14584\n",
              " CARDIAC EMERGENCY        14491\n",
              " ROAD OBSTRUCTION -        8767\n",
              " SUBJECT IN PAIN           8151\n",
              " HEAD INJURY               7613\n",
              "Name: SpecificReason, dtype: int64"
            ]
          },
          "metadata": {
            "tags": []
          },
          "execution_count": 33
        }
      ]
    },
    {
      "cell_type": "code",
      "metadata": {
        "id": "TbdtaIamW-6Z",
        "colab_type": "code",
        "colab": {
          "base_uri": "https://localhost:8080/",
          "height": 85
        },
        "outputId": "18da5668-a2cc-4552-99e4-9e8722764574"
      },
      "source": [
        "# broad reasons\n",
        "dataFrame['BroadReason'].value_counts()"
      ],
      "execution_count": 39,
      "outputs": [
        {
          "output_type": "execute_result",
          "data": {
            "text/plain": [
              "EMS        144362\n",
              "Traffic    101889\n",
              "Fire        42989\n",
              "Name: BroadReason, dtype: int64"
            ]
          },
          "metadata": {
            "tags": []
          },
          "execution_count": 39
        }
      ]
    },
    {
      "cell_type": "code",
      "metadata": {
        "id": "oS-WHV5AX_Uz",
        "colab_type": "code",
        "colab": {
          "base_uri": "https://localhost:8080/",
          "height": 300
        },
        "outputId": "986aa68b-5bad-42a6-ff51-b26b7ea00483"
      },
      "source": [
        "# Plot a count plot for broad reason\n",
        "sns.countplot(x='BroadReason', data=dataFrame)"
      ],
      "execution_count": 40,
      "outputs": [
        {
          "output_type": "execute_result",
          "data": {
            "text/plain": [
              "<matplotlib.axes._subplots.AxesSubplot at 0x7f06e312c780>"
            ]
          },
          "metadata": {
            "tags": []
          },
          "execution_count": 40
        },
        {
          "output_type": "display_data",
          "data": {
            "image/png": "[encoded data removed]",
            "text/plain": [
              "<Figure size 432x288 with 1 Axes>"
            ]
          },
          "metadata": {
            "tags": []
          }
        }
      ]
    },
    {
      "cell_type": "code",
      "metadata": {
        "id": "7uuH369oYrPC",
        "colab_type": "code",
        "colab": {
          "base_uri": "https://localhost:8080/",
          "height": 289
        },
        "outputId": "abdb13b5-1e7d-4686-f056-6998a5fd3e52"
      },
      "source": [
        "# convert timpeStamp from object to actual timeStamp\n",
        "dataFrame['timeStamp']= pd.to_datetime(dataFrame['timeStamp'])\n",
        "dataFrame.info()"
      ],
      "execution_count": 45,
      "outputs": [
        {
          "output_type": "stream",
          "text": [
            "<class 'pandas.core.frame.DataFrame'>\n",
            "RangeIndex: 289240 entries, 0 to 289239\n",
            "Data columns (total 11 columns):\n",
            "lat               289240 non-null float64\n",
            "lng               289240 non-null float64\n",
            "desc              289240 non-null object\n",
            "zip               253942 non-null float64\n",
            "title             289240 non-null object\n",
            "timeStamp         289240 non-null datetime64[ns]\n",
            "twp               289137 non-null object\n",
            "addr              289240 non-null object\n",
            "e                 289240 non-null int64\n",
            "SpecificReason    289240 non-null object\n",
            "BroadReason       289240 non-null object\n",
            "dtypes: datetime64[ns](1), float64(3), int64(1), object(6)\n",
            "memory usage: 24.3+ MB\n"
          ],
          "name": "stdout"
        }
      ]
    },
    {
      "cell_type": "code",
      "metadata": {
        "id": "ocXTHAjPZ-VX",
        "colab_type": "code",
        "colab": {}
      },
      "source": [
        "# create 3 colums Hour, Month and day of week\n",
        "dataFrame['Hour']= dataFrame['timeStamp'].apply(lambda time: time.hour)\n",
        "dataFrame['Month']= dataFrame['timeStamp'].apply(lambda time: time.month)\n",
        "dataFrame['Day']= dataFrame['timeStamp'].apply(lambda time: time.dayofweek)"
      ],
      "execution_count": 0,
      "outputs": []
    },
    {
      "cell_type": "code",
      "metadata": {
        "id": "bbefUNMHb5mJ",
        "colab_type": "code",
        "colab": {
          "base_uri": "https://localhost:8080/",
          "height": 408
        },
        "outputId": "c0135304-9dbf-4904-8979-fc85206bef11"
      },
      "source": [
        "dataFrame.head()"
      ],
      "execution_count": 52,
      "outputs": [
        {
          "output_type": "execute_result",
          "data": {
            "text/html": [
              "<div>\n",
              "<style scoped>\n",
              "    .dataframe tbody tr th:only-of-type {\n",
              "        vertical-align: middle;\n",
              "    }\n",
              "\n",
              "    .dataframe tbody tr th {\n",
              "        vertical-align: top;\n",
              "    }\n",
              "\n",
              "    .dataframe thead th {\n",
              "        text-align: right;\n",
              "    }\n",
              "</style>\n",
              "<table border=\"1\" class=\"dataframe\">\n",
              "  <thead>\n",
              "    <tr style=\"text-align: right;\">\n",
              "      <th></th>\n",
              "      <th>lat</th>\n",
              "      <th>lng</th>\n",
              "      <th>desc</th>\n",
              "      <th>zip</th>\n",
              "      <th>title</th>\n",
              "      <th>timeStamp</th>\n",
              "      <th>twp</th>\n",
              "      <th>addr</th>\n",
              "      <th>e</th>\n",
              "      <th>SpecificReason</th>\n",
              "      <th>BroadReason</th>\n",
              "      <th>Hour</th>\n",
              "      <th>Month</th>\n",
              "      <th>Day</th>\n",
              "    </tr>\n",
              "  </thead>\n",
              "  <tbody>\n",
              "    <tr>\n",
              "      <th>0</th>\n",
              "      <td>40.297876</td>\n",
              "      <td>-75.581294</td>\n",
              "      <td>REINDEER CT &amp; DEAD END;  NEW HANOVER; Station ...</td>\n",
              "      <td>19525.0</td>\n",
              "      <td>EMS: BACK PAINS/INJURY</td>\n",
              "      <td>2015-12-10 17:10:52</td>\n",
              "      <td>NEW HANOVER</td>\n",
              "      <td>REINDEER CT &amp; DEAD END</td>\n",
              "      <td>1</td>\n",
              "      <td>BACK PAINS/INJURY</td>\n",
              "      <td>EMS</td>\n",
              "      <td>17</td>\n",
              "      <td>12</td>\n",
              "      <td>3</td>\n",
              "    </tr>\n",
              "    <tr>\n",
              "      <th>1</th>\n",
              "      <td>40.258061</td>\n",
              "      <td>-75.264680</td>\n",
              "      <td>BRIAR PATH &amp; WHITEMARSH LN;  HATFIELD TOWNSHIP...</td>\n",
              "      <td>19446.0</td>\n",
              "      <td>EMS: DIABETIC EMERGENCY</td>\n",
              "      <td>2015-12-10 17:29:21</td>\n",
              "      <td>HATFIELD TOWNSHIP</td>\n",
              "      <td>BRIAR PATH &amp; WHITEMARSH LN</td>\n",
              "      <td>1</td>\n",
              "      <td>DIABETIC EMERGENCY</td>\n",
              "      <td>EMS</td>\n",
              "      <td>17</td>\n",
              "      <td>12</td>\n",
              "      <td>3</td>\n",
              "    </tr>\n",
              "    <tr>\n",
              "      <th>2</th>\n",
              "      <td>40.121182</td>\n",
              "      <td>-75.351975</td>\n",
              "      <td>HAWS AVE; NORRISTOWN; 2015-12-10 @ 14:39:21-St...</td>\n",
              "      <td>19401.0</td>\n",
              "      <td>Fire: GAS-ODOR/LEAK</td>\n",
              "      <td>2015-12-10 14:39:21</td>\n",
              "      <td>NORRISTOWN</td>\n",
              "      <td>HAWS AVE</td>\n",
              "      <td>1</td>\n",
              "      <td>GAS-ODOR/LEAK</td>\n",
              "      <td>Fire</td>\n",
              "      <td>14</td>\n",
              "      <td>12</td>\n",
              "      <td>3</td>\n",
              "    </tr>\n",
              "    <tr>\n",
              "      <th>3</th>\n",
              "      <td>40.116153</td>\n",
              "      <td>-75.343513</td>\n",
              "      <td>AIRY ST &amp; SWEDE ST;  NORRISTOWN; Station 308A;...</td>\n",
              "      <td>19401.0</td>\n",
              "      <td>EMS: CARDIAC EMERGENCY</td>\n",
              "      <td>2015-12-10 16:47:36</td>\n",
              "      <td>NORRISTOWN</td>\n",
              "      <td>AIRY ST &amp; SWEDE ST</td>\n",
              "      <td>1</td>\n",
              "      <td>CARDIAC EMERGENCY</td>\n",
              "      <td>EMS</td>\n",
              "      <td>16</td>\n",
              "      <td>12</td>\n",
              "      <td>3</td>\n",
              "    </tr>\n",
              "    <tr>\n",
              "      <th>4</th>\n",
              "      <td>40.251492</td>\n",
              "      <td>-75.603350</td>\n",
              "      <td>CHERRYWOOD CT &amp; DEAD END;  LOWER POTTSGROVE; S...</td>\n",
              "      <td>NaN</td>\n",
              "      <td>EMS: DIZZINESS</td>\n",
              "      <td>2015-12-10 16:56:52</td>\n",
              "      <td>LOWER POTTSGROVE</td>\n",
              "      <td>CHERRYWOOD CT &amp; DEAD END</td>\n",
              "      <td>1</td>\n",
              "      <td>DIZZINESS</td>\n",
              "      <td>EMS</td>\n",
              "      <td>16</td>\n",
              "      <td>12</td>\n",
              "      <td>3</td>\n",
              "    </tr>\n",
              "  </tbody>\n",
              "</table>\n",
              "</div>"
            ],
            "text/plain": [
              "         lat        lng  ... Month  Day\n",
              "0  40.297876 -75.581294  ...    12    3\n",
              "1  40.258061 -75.264680  ...    12    3\n",
              "2  40.121182 -75.351975  ...    12    3\n",
              "3  40.116153 -75.343513  ...    12    3\n",
              "4  40.251492 -75.603350  ...    12    3\n",
              "\n",
              "[5 rows x 14 columns]"
            ]
          },
          "metadata": {
            "tags": []
          },
          "execution_count": 52
        }
      ]
    },
    {
      "cell_type": "code",
      "metadata": {
        "id": "yJDUfXXEda2F",
        "colab_type": "code",
        "colab": {
          "base_uri": "https://localhost:8080/",
          "height": 300
        },
        "outputId": "faee9580-cadb-40cc-c0e5-b69819527800"
      },
      "source": [
        "# plot a graph for month\n",
        "sns.countplot(x='Month', data=dataFrame, hue='BroadReason')\n",
        "plt.legend(bbox_to_anchor=(1.05, 1))"
      ],
      "execution_count": 60,
      "outputs": [
        {
          "output_type": "execute_result",
          "data": {
            "text/plain": [
              "<matplotlib.legend.Legend at 0x7f06e2e14d30>"
            ]
          },
          "metadata": {
            "tags": []
          },
          "execution_count": 60
        },
        {
          "output_type": "display_data",
          "data": {
            "image/png": "[encoded data removed]",
            "text/plain": [
              "<Figure size 432x288 with 1 Axes>"
            ]
          },
          "metadata": {
            "tags": []
          }
        }
      ]
    },
    {
      "cell_type": "code",
      "metadata": {
        "id": "P8ky4Kypdy-O",
        "colab_type": "code",
        "colab": {}
      },
      "source": [
        "# use groupby\n",
        "byMonth= dataFrame.groupby('Month').count()"
      ],
      "execution_count": 0,
      "outputs": []
    },
    {
      "cell_type": "code",
      "metadata": {
        "id": "Iq71HkEmfqT4",
        "colab_type": "code",
        "colab": {
          "base_uri": "https://localhost:8080/",
          "height": 452
        },
        "outputId": "89f2fa3c-6cb0-41b1-a752-b932b5e2f631"
      },
      "source": [
        "byMonth"
      ],
      "execution_count": 62,
      "outputs": [
        {
          "output_type": "execute_result",
          "data": {
            "text/html": [
              "<div>\n",
              "<style scoped>\n",
              "    .dataframe tbody tr th:only-of-type {\n",
              "        vertical-align: middle;\n",
              "    }\n",
              "\n",
              "    .dataframe tbody tr th {\n",
              "        vertical-align: top;\n",
              "    }\n",
              "\n",
              "    .dataframe thead th {\n",
              "        text-align: right;\n",
              "    }\n",
              "</style>\n",
              "<table border=\"1\" class=\"dataframe\">\n",
              "  <thead>\n",
              "    <tr style=\"text-align: right;\">\n",
              "      <th></th>\n",
              "      <th>lat</th>\n",
              "      <th>lng</th>\n",
              "      <th>desc</th>\n",
              "      <th>zip</th>\n",
              "      <th>title</th>\n",
              "      <th>timeStamp</th>\n",
              "      <th>twp</th>\n",
              "      <th>addr</th>\n",
              "      <th>e</th>\n",
              "      <th>SpecificReason</th>\n",
              "      <th>BroadReason</th>\n",
              "      <th>Hour</th>\n",
              "      <th>Day</th>\n",
              "    </tr>\n",
              "    <tr>\n",
              "      <th>Month</th>\n",
              "      <th></th>\n",
              "      <th></th>\n",
              "      <th></th>\n",
              "      <th></th>\n",
              "      <th></th>\n",
              "      <th></th>\n",
              "      <th></th>\n",
              "      <th></th>\n",
              "      <th></th>\n",
              "      <th></th>\n",
              "      <th></th>\n",
              "      <th></th>\n",
              "      <th></th>\n",
              "    </tr>\n",
              "  </thead>\n",
              "  <tbody>\n",
              "    <tr>\n",
              "      <th>1</th>\n",
              "      <td>24701</td>\n",
              "      <td>24701</td>\n",
              "      <td>24701</td>\n",
              "      <td>21877</td>\n",
              "      <td>24701</td>\n",
              "      <td>24701</td>\n",
              "      <td>24692</td>\n",
              "      <td>24701</td>\n",
              "      <td>24701</td>\n",
              "      <td>24701</td>\n",
              "      <td>24701</td>\n",
              "      <td>24701</td>\n",
              "      <td>24701</td>\n",
              "    </tr>\n",
              "    <tr>\n",
              "      <th>2</th>\n",
              "      <td>21663</td>\n",
              "      <td>21663</td>\n",
              "      <td>21663</td>\n",
              "      <td>19161</td>\n",
              "      <td>21663</td>\n",
              "      <td>21663</td>\n",
              "      <td>21658</td>\n",
              "      <td>21663</td>\n",
              "      <td>21663</td>\n",
              "      <td>21663</td>\n",
              "      <td>21663</td>\n",
              "      <td>21663</td>\n",
              "      <td>21663</td>\n",
              "    </tr>\n",
              "    <tr>\n",
              "      <th>3</th>\n",
              "      <td>22743</td>\n",
              "      <td>22743</td>\n",
              "      <td>22743</td>\n",
              "      <td>20160</td>\n",
              "      <td>22743</td>\n",
              "      <td>22743</td>\n",
              "      <td>22732</td>\n",
              "      <td>22743</td>\n",
              "      <td>22743</td>\n",
              "      <td>22743</td>\n",
              "      <td>22743</td>\n",
              "      <td>22743</td>\n",
              "      <td>22743</td>\n",
              "    </tr>\n",
              "    <tr>\n",
              "      <th>4</th>\n",
              "      <td>22343</td>\n",
              "      <td>22343</td>\n",
              "      <td>22343</td>\n",
              "      <td>19671</td>\n",
              "      <td>22343</td>\n",
              "      <td>22343</td>\n",
              "      <td>22336</td>\n",
              "      <td>22343</td>\n",
              "      <td>22343</td>\n",
              "      <td>22343</td>\n",
              "      <td>22343</td>\n",
              "      <td>22343</td>\n",
              "      <td>22343</td>\n",
              "    </tr>\n",
              "    <tr>\n",
              "      <th>5</th>\n",
              "      <td>23093</td>\n",
              "      <td>23093</td>\n",
              "      <td>23093</td>\n",
              "      <td>20254</td>\n",
              "      <td>23093</td>\n",
              "      <td>23093</td>\n",
              "      <td>23082</td>\n",
              "      <td>23093</td>\n",
              "      <td>23093</td>\n",
              "      <td>23093</td>\n",
              "      <td>23093</td>\n",
              "      <td>23093</td>\n",
              "      <td>23093</td>\n",
              "    </tr>\n",
              "    <tr>\n",
              "      <th>6</th>\n",
              "      <td>24065</td>\n",
              "      <td>24065</td>\n",
              "      <td>24065</td>\n",
              "      <td>21070</td>\n",
              "      <td>24065</td>\n",
              "      <td>24065</td>\n",
              "      <td>24058</td>\n",
              "      <td>24065</td>\n",
              "      <td>24065</td>\n",
              "      <td>24065</td>\n",
              "      <td>24065</td>\n",
              "      <td>24065</td>\n",
              "      <td>24065</td>\n",
              "    </tr>\n",
              "    <tr>\n",
              "      <th>7</th>\n",
              "      <td>23856</td>\n",
              "      <td>23856</td>\n",
              "      <td>23856</td>\n",
              "      <td>20940</td>\n",
              "      <td>23856</td>\n",
              "      <td>23856</td>\n",
              "      <td>23850</td>\n",
              "      <td>23856</td>\n",
              "      <td>23856</td>\n",
              "      <td>23856</td>\n",
              "      <td>23856</td>\n",
              "      <td>23856</td>\n",
              "      <td>23856</td>\n",
              "    </tr>\n",
              "    <tr>\n",
              "      <th>8</th>\n",
              "      <td>23657</td>\n",
              "      <td>23657</td>\n",
              "      <td>23657</td>\n",
              "      <td>20739</td>\n",
              "      <td>23657</td>\n",
              "      <td>23657</td>\n",
              "      <td>23646</td>\n",
              "      <td>23657</td>\n",
              "      <td>23657</td>\n",
              "      <td>23657</td>\n",
              "      <td>23657</td>\n",
              "      <td>23657</td>\n",
              "      <td>23657</td>\n",
              "    </tr>\n",
              "    <tr>\n",
              "      <th>9</th>\n",
              "      <td>23001</td>\n",
              "      <td>23001</td>\n",
              "      <td>23001</td>\n",
              "      <td>20014</td>\n",
              "      <td>23001</td>\n",
              "      <td>23001</td>\n",
              "      <td>22993</td>\n",
              "      <td>23001</td>\n",
              "      <td>23001</td>\n",
              "      <td>23001</td>\n",
              "      <td>23001</td>\n",
              "      <td>23001</td>\n",
              "      <td>23001</td>\n",
              "    </tr>\n",
              "    <tr>\n",
              "      <th>10</th>\n",
              "      <td>24113</td>\n",
              "      <td>24113</td>\n",
              "      <td>24113</td>\n",
              "      <td>20931</td>\n",
              "      <td>24113</td>\n",
              "      <td>24113</td>\n",
              "      <td>24109</td>\n",
              "      <td>24113</td>\n",
              "      <td>24113</td>\n",
              "      <td>24113</td>\n",
              "      <td>24113</td>\n",
              "      <td>24113</td>\n",
              "      <td>24113</td>\n",
              "    </tr>\n",
              "    <tr>\n",
              "      <th>11</th>\n",
              "      <td>23639</td>\n",
              "      <td>23639</td>\n",
              "      <td>23639</td>\n",
              "      <td>20727</td>\n",
              "      <td>23639</td>\n",
              "      <td>23639</td>\n",
              "      <td>23629</td>\n",
              "      <td>23639</td>\n",
              "      <td>23639</td>\n",
              "      <td>23639</td>\n",
              "      <td>23639</td>\n",
              "      <td>23639</td>\n",
              "      <td>23639</td>\n",
              "    </tr>\n",
              "    <tr>\n",
              "      <th>12</th>\n",
              "      <td>32366</td>\n",
              "      <td>32366</td>\n",
              "      <td>32366</td>\n",
              "      <td>28398</td>\n",
              "      <td>32366</td>\n",
              "      <td>32366</td>\n",
              "      <td>32352</td>\n",
              "      <td>32366</td>\n",
              "      <td>32366</td>\n",
              "      <td>32366</td>\n",
              "      <td>32366</td>\n",
              "      <td>32366</td>\n",
              "      <td>32366</td>\n",
              "    </tr>\n",
              "  </tbody>\n",
              "</table>\n",
              "</div>"
            ],
            "text/plain": [
              "         lat    lng   desc    zip  ...  SpecificReason  BroadReason   Hour    Day\n",
              "Month                              ...                                           \n",
              "1      24701  24701  24701  21877  ...           24701        24701  24701  24701\n",
              "2      21663  21663  21663  19161  ...           21663        21663  21663  21663\n",
              "3      22743  22743  22743  20160  ...           22743        22743  22743  22743\n",
              "4      22343  22343  22343  19671  ...           22343        22343  22343  22343\n",
              "5      23093  23093  23093  20254  ...           23093        23093  23093  23093\n",
              "6      24065  24065  24065  21070  ...           24065        24065  24065  24065\n",
              "7      23856  23856  23856  20940  ...           23856        23856  23856  23856\n",
              "8      23657  23657  23657  20739  ...           23657        23657  23657  23657\n",
              "9      23001  23001  23001  20014  ...           23001        23001  23001  23001\n",
              "10     24113  24113  24113  20931  ...           24113        24113  24113  24113\n",
              "11     23639  23639  23639  20727  ...           23639        23639  23639  23639\n",
              "12     32366  32366  32366  28398  ...           32366        32366  32366  32366\n",
              "\n",
              "[12 rows x 13 columns]"
            ]
          },
          "metadata": {
            "tags": []
          },
          "execution_count": 62
        }
      ]
    },
    {
      "cell_type": "code",
      "metadata": {
        "id": "3sCs0BKcfrRT",
        "colab_type": "code",
        "colab": {
          "base_uri": "https://localhost:8080/",
          "height": 300
        },
        "outputId": "081a2c24-b087-4285-ce80-fa30b068ba0a"
      },
      "source": [
        "byMonth['twp'].plot()"
      ],
      "execution_count": 63,
      "outputs": [
        {
          "output_type": "execute_result",
          "data": {
            "text/plain": [
              "<matplotlib.axes._subplots.AxesSubplot at 0x7f06e2d2def0>"
            ]
          },
          "metadata": {
            "tags": []
          },
          "execution_count": 63
        },
        {
          "output_type": "display_data",
          "data": {
            "image/png": "[encoded data removed]",
            "text/plain": [
              "<Figure size 432x288 with 1 Axes>"
            ]
          },
          "metadata": {
            "tags": []
          }
        }
      ]
    },
    {
      "cell_type": "code",
      "metadata": {
        "id": "bUsxlXs9gDRG",
        "colab_type": "code",
        "colab": {
          "base_uri": "https://localhost:8080/",
          "height": 300
        },
        "outputId": "595fe6d3-ca6b-46e6-8171-36a879537d53"
      },
      "source": [
        "byDay= dataFrame.groupby('Day').count()\n",
        "byDay['twp'].plot()"
      ],
      "execution_count": 65,
      "outputs": [
        {
          "output_type": "execute_result",
          "data": {
            "text/plain": [
              "<matplotlib.axes._subplots.AxesSubplot at 0x7f06e2b868d0>"
            ]
          },
          "metadata": {
            "tags": []
          },
          "execution_count": 65
        },
        {
          "output_type": "display_data",
          "data": {
            "image/png": "[encoded data removed]",
            "text/plain": [
              "<Figure size 432x288 with 1 Axes>"
            ]
          },
          "metadata": {
            "tags": []
          }
        }
      ]
    }
  ]
}